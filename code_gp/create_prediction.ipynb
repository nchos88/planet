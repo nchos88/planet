{
 "cells": [
  {
   "cell_type": "code",
   "execution_count": 9,
   "metadata": {},
   "outputs": [],
   "source": [
    "import pandas as pd\n",
    "from tensorflow.keras import models\n",
    "from sklearn.preprocessing import MinMaxScaler , LabelEncoder , OneHotEncoder , StandardScaler"
   ]
  },
  {
   "cell_type": "code",
   "execution_count": 13,
   "metadata": {},
   "outputs": [],
   "source": [
    "model = models.load_model('./ck7/weights_val-0.8420_train-0.8340__ep-48770.hdf5')"
   ]
  },
  {
   "cell_type": "code",
   "execution_count": 14,
   "metadata": {},
   "outputs": [],
   "source": [
    "train = pd.read_csv('../input/train.csv', index_col='id').sample(frac = 0.1, )\n",
    "\n",
    "unique_labels = train['type'].unique()\n",
    "label_dict = {val: i for i, val in enumerate(unique_labels)}\n",
    "i2lb = {v:k for k, v in label_dict.items()}\n",
    "        \n",
    "        \n",
    "scaler = StandardScaler()\n",
    "labels = train['type']\n",
    "train = train.drop(columns=['fiberID', 'type']) \n",
    "        \n",
    "_mat = scaler.fit_transform(train)\n",
    "train = pd.DataFrame(_mat, columns=train.columns, index=train.index)\n",
    "        \n",
    "train_x = train\n",
    "train_y = labels.replace(label_dict)  "
   ]
  },
  {
   "cell_type": "code",
   "execution_count": 15,
   "metadata": {},
   "outputs": [],
   "source": [
    "test = pd.read_csv('../input/test.csv').reset_index(drop=True)\n",
    "test_ids = test['id']\n",
    "test = test.drop(columns=['id', 'fiberID'])\n",
    "test = pd.DataFrame(scaler.transform(test), columns=test.columns, index=test.index)"
   ]
  },
  {
   "cell_type": "code",
   "execution_count": 16,
   "metadata": {},
   "outputs": [
    {
     "name": "stdout",
     "output_type": "stream",
     "text": [
      "WARNING:tensorflow:Falling back from v2 loop because of error: Failed to find data adapter that can handle input: <class 'pandas.core.frame.DataFrame'>, <class 'NoneType'>\n"
     ]
    }
   ],
   "source": [
    "pred_mat = model.predict(test)\n",
    "\n",
    "sample = pd.read_csv('../input/sample_submission.csv')\n",
    "\n",
    "submission = pd.DataFrame(pred_mat, index=test.index)\n",
    "submission = submission.rename(columns=i2lb)\n",
    "submission = pd.concat([test_ids, submission], axis=1)\n",
    "submission = submission[sample.columns]\n",
    "submission.to_csv(\"./sub/ck7.csv\", index=False)"
   ]
  },
  {
   "cell_type": "code",
   "execution_count": null,
   "metadata": {},
   "outputs": [],
   "source": []
  }
 ],
 "metadata": {
  "kernelspec": {
   "display_name": "Python [conda env:gb]",
   "language": "python",
   "name": "conda-env-gb-py"
  },
  "language_info": {
   "codemirror_mode": {
    "name": "ipython",
    "version": 3
   },
   "file_extension": ".py",
   "mimetype": "text/x-python",
   "name": "python",
   "nbconvert_exporter": "python",
   "pygments_lexer": "ipython3",
   "version": "3.6.7"
  }
 },
 "nbformat": 4,
 "nbformat_minor": 4
}
